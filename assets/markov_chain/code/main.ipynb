{
 "cells": [
  {
   "cell_type": "code",
   "execution_count": 1,
   "id": "841e8f2f-b671-4172-aa89-c70688009ae7",
   "metadata": {},
   "outputs": [],
   "source": [
    "import numpy as np # tính toán trên ma trận\n",
    "import pandas as pd # đọc dữ liệu từ file csv\n",
    "from pprint import pprint # dùng cho mục đích in \"đẹp\"\n",
    "from collections import defaultdict # để đếm số lượng lần xảy ra của các trạng thái (đơn lẻ và cặp)"
   ]
  },
  {
   "cell_type": "code",
   "execution_count": 2,
   "id": "7261f4e9-dc68-4791-9075-14143a015906",
   "metadata": {},
   "outputs": [
    {
     "name": "stdout",
     "output_type": "stream",
     "text": [
      "['Phở', 'Cơm tấm', 'Bánh mì', 'Phở', 'Phở']\n"
     ]
    }
   ],
   "source": [
    "df = pd.read_csv('breakfast.csv')\n",
    "data = df.Food.tolist()\n",
    "print(data[-5:]) # xuất ra 5 món ăn cuối cùng bạn ăn"
   ]
  },
  {
   "cell_type": "code",
   "execution_count": 3,
   "id": "c4f7527e-9d00-4624-9306-a2f4fb5cffb2",
   "metadata": {},
   "outputs": [],
   "source": [
    "# tạo nơi lưu trữ giá trị\n",
    "food_count = defaultdict(int)\n",
    "food_pair_count = defaultdict(lambda: defaultdict(float))"
   ]
  },
  {
   "cell_type": "code",
   "execution_count": 4,
   "id": "c9c6f9df-23fe-4a47-99b1-24fbc8c9cd07",
   "metadata": {},
   "outputs": [],
   "source": [
    "# food_count: đếm số lần xuất hiện của một trạng thái\n",
    "# food_pair_count: đếm tất cả các cặp trạng thái có thể [current][future]\n",
    "n = len(data)\n",
    "for i in range(n):\n",
    "    food_count[data[i]] += 1\n",
    "    if i == n - 1:\n",
    "        food_pair_count[data[i]][data[i]] += 1\n",
    "        break\n",
    "    food_pair_count[data[i]][data[i + 1]] += 1"
   ]
  },
  {
   "cell_type": "code",
   "execution_count": 5,
   "id": "f2b7390d-0e4f-4b56-a8dc-a530e588f52f",
   "metadata": {},
   "outputs": [],
   "source": [
    "# chuẩn hóa theo tổng hàng\n",
    "for key, value in food_pair_count.items():\n",
    "    for k, v in value.items():\n",
    "        food_pair_count[key][k] /= food_count[key] # chuẩn hóa"
   ]
  },
  {
   "cell_type": "code",
   "execution_count": 6,
   "id": "00b3f5b3-1513-41d7-b023-b695b5a9cb0c",
   "metadata": {},
   "outputs": [
    {
     "name": "stdout",
     "output_type": "stream",
     "text": [
      "{'Bánh mì': 0, 'Cơm tấm': 1, 'Phở': 2, 'Súp cua': 3}\n"
     ]
    }
   ],
   "source": [
    "# lấy index của các món ăn để dễ thao tác\n",
    "keys = list(food_count.keys())\n",
    "idx = range(len(keys))\n",
    "key_to_idx = dict(zip(keys, idx)) # key to index\n",
    "print(key_to_idx)"
   ]
  },
  {
   "cell_type": "code",
   "execution_count": 7,
   "id": "0ef873e9-3f63-4de0-bcbc-e14c55e5926f",
   "metadata": {},
   "outputs": [
    {
     "name": "stdout",
     "output_type": "stream",
     "text": [
      "Ma trận chuyển trạng thái P: \n",
      "array([[0.26582278, 0.26582278, 0.26582278, 0.20253165],\n",
      "       [0.25274725, 0.20879121, 0.24175824, 0.2967033 ],\n",
      "       [0.28571429, 0.25274725, 0.28571429, 0.17582418],\n",
      "       [0.25961538, 0.33653846, 0.21153846, 0.19230769]])\n"
     ]
    }
   ],
   "source": [
    "P = []\n",
    "for key, value in food_pair_count.items():\n",
    "    P.append(list(value.values()))\n",
    "        \n",
    "# chuyển list sang numpy để dễ tính toán\n",
    "P = np.array(P)\n",
    "\n",
    "print('Ma trận chuyển trạng thái P: ')\n",
    "pprint(P)"
   ]
  },
  {
   "cell_type": "code",
   "execution_count": 8,
   "id": "5a736f46-23d5-4e52-bc22-8e5e88bc9efb",
   "metadata": {},
   "outputs": [
    {
     "name": "stdout",
     "output_type": "stream",
     "text": [
      "[1. 1. 1. 1.]\n"
     ]
    }
   ],
   "source": [
    "# tổng hàng của ma trận phải luôn bằng 1\n",
    "print(P.sum(axis=1))"
   ]
  },
  {
   "cell_type": "code",
   "execution_count": 9,
   "id": "da2d3832-ffdd-48be-91f1-cabbdb503851",
   "metadata": {},
   "outputs": [],
   "source": [
    "# dự đoán món ăn \n",
    "curr_food = data[-1]\n",
    "curr_distribution = P[key_to_idx[curr_food]]\n",
    "predicted_food = np.random.choice(keys, p=curr_distribution) # random walk with known distribution\n",
    "predicted_probability = P[key_to_idx[curr_food]][key_to_idx[predicted_food]]"
   ]
  },
  {
   "cell_type": "code",
   "execution_count": 10,
   "id": "2ea44c3d-0884-4fd3-9bb5-08ad53289811",
   "metadata": {},
   "outputs": [
    {
     "name": "stdout",
     "output_type": "stream",
     "text": [
      "Món ăn chúng ta ăn hôm trước: Phở\n",
      "Món ăn nên ăn vào hôm nay là \"Phở\" với khả năng xảy ra là 28.57%\n"
     ]
    }
   ],
   "source": [
    "print(f'Món ăn chúng ta ăn hôm trước: {data[-1]}')\n",
    "print(f'Món ăn nên ăn vào hôm nay là \"{predicted_food}\"\\\n",
    " với khả năng xảy ra là {round(predicted_probability * 100, 2)}%')"
   ]
  }
 ],
 "metadata": {
  "kernelspec": {
   "display_name": "Python 3",
   "language": "python",
   "name": "python3"
  },
  "language_info": {
   "codemirror_mode": {
    "name": "ipython",
    "version": 3
   },
   "file_extension": ".py",
   "mimetype": "text/x-python",
   "name": "python",
   "nbconvert_exporter": "python",
   "pygments_lexer": "ipython3",
   "version": "3.8.8"
  }
 },
 "nbformat": 4,
 "nbformat_minor": 5
}
